{
  "nbformat": 4,
  "nbformat_minor": 0,
  "metadata": {
    "colab": {
      "provenance": []
    },
    "kernelspec": {
      "name": "python3",
      "display_name": "Python 3"
    },
    "language_info": {
      "name": "python"
    }
  },
  "cells": [
    {
      "cell_type": "code",
      "execution_count": null,
      "metadata": {
        "id": "HRx_Ykqy-Hki"
      },
      "outputs": [],
      "source": [
        "import math\n",
        "\n",
        "# Function to calculate the Euclidean distance between two points\n",
        "def euclidean_distance(point1, point2):\n",
        "  distance = 0\n",
        "  for i in range(len(point1)):\n",
        "    distance += (point1[i] - point2[i]) ** 2\n",
        "  return math.sqrt(distance)\n",
        "\n",
        "# Function to find the k nearest neighbors\n",
        "def find_nearest_neighbors(training_data, test_instance, k):\n",
        "  distances = []\n",
        "  for i in range(len(training_data)):\n",
        "    distance = euclidean_distance(training_data[i][:4], test_instance)\n",
        "    distances.append((training_data[i], distance))\n",
        "  distances.sort(key=lambda x: x[1])\n",
        "  neighbors = [distance[0] for distance in distances[:k]]\n",
        "  return neighbors\n",
        "\n",
        "# Function to classify a test instance based on the k nearest neighbors\n",
        "def classify_instance(neighbors):\n",
        "  class_votes = {}\n",
        "  for neighbor in neighbors:\n",
        "    label = neighbor[4]\n",
        "    if label in class_votes:\n",
        "      class_votes[label] += 1\n",
        "    else:\n",
        "      class_votes[label] = 1\n",
        "  sorted_votes = sorted(class_votes.items(), key=lambda x: x[1], reverse=True)\n",
        "  return sorted_votes[0][0]\n",
        "\n",
        "# Function to classify multiple test instances\n",
        "def classify_instances(training_data, test_data, k):\n",
        "  predictions = []\n",
        "  for test_instance in test_data:\n",
        "    neighbors = find_nearest_neighbors(training_data, test_instance, k)\n",
        "    predicted_class = classify_instance(neighbors)\n",
        "    predictions.append(predicted_class)\n",
        "  return predictions\n",
        "\n",
        "def accuracy(actual_classes, predictions):\n",
        "    correct = 0\n",
        "    for i in range(len(actual_classes)):\n",
        "        if actual_classes[i] == predictions[i]:\n",
        "            correct += 1\n",
        "    return correct / float(len(actual_classes)) * 100.0"
      ]
    },
    {
      "cell_type": "code",
      "source": [
        "%%time\n",
        "# Example usage\n",
        "training_data = [\n",
        "    [5.1, 3.5, 1.4, 0.2, 'Iris-setosa'],\n",
        "    [4.9, 3.0, 1.4, 0.2, 'Iris-setosa'],\n",
        "    [6.2, 3.4, 5.4, 2.3, 'Iris-virginica'],\n",
        "    [7.0, 3.2, 4.7, 1.4, 'Iris-versicolor'],\n",
        "    [6.4, 3.2, 4.5, 1.5, 'Iris-versicolor'],\n",
        "    [5.5, 2.3, 4.0, 1.3, 'Iris-versicolor'],\n",
        "    [6.3, 2.9, 5.6, 1.8, 'Iris-virginica'],\n",
        "    [6.5, 3.0, 5.2, 2.0, 'Iris-virginica'],\n",
        "    [6.4, 2.8, 5.6, 2.2, 'Iris-virginica']\n",
        "]\n",
        "\n",
        "test_data = [\n",
        "  [5.8, 2.7, 5.1, 1.9],\n",
        "  [6.0, 3.0, 4.8, 1.8],\n",
        "  [5.5, 2.4, 3.7, 1.0],\n",
        "  [4.9, 3.1, 1.5, 0.1],\n",
        "  [6.7, 3.1, 4.4, 1.4],\n",
        "]\n",
        "\n",
        "k = 3\n",
        "\n",
        "predictions = classify_instances(training_data, test_data, k)\n",
        "print(predictions)"
      ],
      "metadata": {
        "colab": {
          "base_uri": "https://localhost:8080/"
        },
        "id": "r9L_QM56-iNz",
        "outputId": "1eeb402d-6ac3-4f38-f1e6-db50bd10572b"
      },
      "execution_count": null,
      "outputs": [
        {
          "output_type": "stream",
          "name": "stdout",
          "text": [
            "['Iris-setosa', 'Iris-virginica', 'Iris-virginica', 'Iris-versicolor', 'Iris-setosa', 'Iris-versicolor']\n",
            "CPU times: user 1.41 ms, sys: 0 ns, total: 1.41 ms\n",
            "Wall time: 2.06 ms\n"
          ]
        }
      ]
    },
    {
      "cell_type": "code",
      "source": [
        "actual_classes=['Iris-virginica', 'Iris-virginica', 'Iris-versicolor', 'Iris-setosa', 'Iris-versicolor']\n",
        "accuracy(actual_classes, predictions)"
      ],
      "metadata": {
        "colab": {
          "base_uri": "https://localhost:8080/"
        },
        "id": "zSFTF61zBVmg",
        "outputId": "16786232-dbe4-4a6b-8735-3aa6c2805436"
      },
      "execution_count": null,
      "outputs": [
        {
          "output_type": "execute_result",
          "data": {
            "text/plain": [
              "100.0"
            ]
          },
          "metadata": {},
          "execution_count": 3
        }
      ]
    },
    {
      "cell_type": "markdown",
      "source": [
        "Nova versao com melhoria de velocidade"
      ],
      "metadata": {
        "id": "tZ-Gv3656eOb"
      }
    },
    {
      "cell_type": "code",
      "source": [
        "import numpy as np\n",
        "\n",
        "# Function to calculate the Euclidean distance between two points\n",
        "def euclidean_distance(point1, point2):\n",
        "  return np.linalg.norm(point1 - point2)\n",
        "\n",
        "# Function to find the k nearest neighbors\n",
        "def find_nearest_neighbors(training_data, test_instance, k):\n",
        "  distances = np.linalg.norm(training_data[:, :4] - test_instance, axis=1)\n",
        "  neighbors = training_data[np.argsort(distances)][:k]\n",
        "  return neighbors\n",
        "\n",
        "# Function to classify a test instance based on the k nearest neighbors\n",
        "def classify_instance(neighbors):\n",
        "  class_votes = np.bincount(neighbors[:, 4].astype(int))\n",
        "  return np.argmax(class_votes)\n",
        "\n",
        "# Function to classify multiple test instances\n",
        "def classify_instances(training_data, test_data, k):\n",
        "  predictions = []\n",
        "  for test_instance in test_data:\n",
        "    neighbors = find_nearest_neighbors(training_data, test_instance, k)\n",
        "    predicted_class = classify_instance(neighbors)\n",
        "    predictions.append(predicted_class)\n",
        "  return predictions\n",
        "\n",
        "def accuracy(actual_classes, predictions):\n",
        "    correct = 0\n",
        "    for i in range(len(actual_classes)):\n",
        "        if actual_classes[i] == predictions[i]:\n",
        "            correct += 1\n",
        "    return correct / float(len(actual_classes)) * 100.0"
      ],
      "metadata": {
        "id": "lFQl8mIn6hIr"
      },
      "execution_count": null,
      "outputs": []
    },
    {
      "cell_type": "code",
      "source": [
        "%%time\n",
        "# Example usage\n",
        "training_data = np.array([\n",
        "    [5.1, 3.5, 1.4, 0.2, 0],  # Setosa\n",
        "    [4.9, 3.0, 1.4, 0.2, 0],  # Setosa\n",
        "    [6.2, 3.4, 5.4, 2.3, 2],  # Virginica\n",
        "    [7.0, 3.2, 4.7, 1.4, 1],  # Versicolour\n",
        "    [6.4, 3.2, 4.5, 1.5, 1],  # Versicolour\n",
        "    [5.5, 2.3, 4.0, 1.3, 1],  # Versicolour\n",
        "    [6.3, 2.9, 5.6, 1.8, 2],  # Virginica\n",
        "    [6.5, 3.0, 5.2, 2.0, 2],  # Virginica\n",
        "    [6.4, 2.8, 5.6, 2.2, 2]   # Virginica\n",
        "])\n",
        "#onde 0 é setosa, 1 é Versicolour, 2 é virginica\n",
        "test_data = np.array([\n",
        "  [5.8, 2.7, 5.1, 1.9],\n",
        "  [6.0, 3.0, 4.8, 1.8],\n",
        "  [5.5, 2.4, 3.7, 1.0],\n",
        "  [4.9, 3.1, 1.5, 0.1],\n",
        "  [6.7, 3.1, 4.4, 1.4],\n",
        "])\n",
        "\n",
        "k = 3\n",
        "\n",
        "predictions = classify_instances(training_data, test_data, k)\n",
        "print(predictions)"
      ],
      "metadata": {
        "colab": {
          "base_uri": "https://localhost:8080/"
        },
        "id": "TD-eUdHP-2jU",
        "outputId": "16184372-71a9-456b-b4cb-3e884c67d92a"
      },
      "execution_count": null,
      "outputs": [
        {
          "output_type": "stream",
          "name": "stdout",
          "text": [
            "[0, 2, 2, 1, 0, 1]\n",
            "CPU times: user 1.42 ms, sys: 0 ns, total: 1.42 ms\n",
            "Wall time: 1.43 ms\n"
          ]
        }
      ]
    },
    {
      "cell_type": "code",
      "source": [
        "actual_classes = [2.0, 2.0, 1.0, 0.0, 1.0]\n",
        "accuracy(actual_classes, predictions)"
      ],
      "metadata": {
        "colab": {
          "base_uri": "https://localhost:8080/"
        },
        "id": "r8zWyCVcDDZA",
        "outputId": "d0ee3f3b-af80-411a-ecb0-f3ffae9de062"
      },
      "execution_count": null,
      "outputs": [
        {
          "output_type": "execute_result",
          "data": {
            "text/plain": [
              "100.0"
            ]
          },
          "metadata": {},
          "execution_count": 6
        }
      ]
    },
    {
      "cell_type": "markdown",
      "source": [
        "Utilizei o %%time para verificar o tempo, o primeiro agoritmo teve 2.06ms e o segundo teve 1.43ms"
      ],
      "metadata": {
        "id": "Vtp7Ny64bx6S"
      }
    }
  ]
}