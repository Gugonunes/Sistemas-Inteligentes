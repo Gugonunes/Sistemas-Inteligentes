{
  "nbformat": 4,
  "nbformat_minor": 0,
  "metadata": {
    "colab": {
      "provenance": []
    },
    "kernelspec": {
      "name": "python3",
      "display_name": "Python 3"
    },
    "language_info": {
      "name": "python"
    }
  },
  "cells": [
    {
      "cell_type": "code",
      "execution_count": null,
      "metadata": {
        "id": "sxpQCAJgNaCE"
      },
      "outputs": [],
      "source": [
        "import numpy as np\n",
        "from sklearn import datasets\n",
        "from sklearn.model_selection import train_test_split\n",
        "from sklearn.preprocessing import StandardScaler\n",
        "from sklearn.metrics import accuracy_score"
      ]
    },
    {
      "cell_type": "code",
      "source": [
        "#Classificador LDA\n",
        "class LDA:\n",
        "    def __init__(self):\n",
        "        self.mean = None\n",
        "        self.cov = None\n",
        "        self.prior = None\n",
        "        self.classes = None\n",
        "\n",
        "    def fit(self, X, y):\n",
        "        self.classes = np.unique(y)\n",
        "        self.mean = np.zeros((len(self.classes), X.shape[1]))\n",
        "        self.cov = np.zeros((X.shape[1], X.shape[1]))\n",
        "        self.prior = np.zeros(len(self.classes))\n",
        "\n",
        "        for i, c in enumerate(self.classes):\n",
        "            Xc = X[y == c]\n",
        "            self.mean[i] = np.mean(Xc, axis=0)\n",
        "            self.cov += np.cov(Xc.T) * (len(Xc) - 1)\n",
        "            self.prior[i] = len(Xc) / len(X)\n",
        "\n",
        "        self.cov /= len(X) - len(self.classes)\n",
        "\n",
        "    def predict(self, X):\n",
        "        y_pred = np.zeros(len(X))\n",
        "\n",
        "        for i, x in enumerate(X):\n",
        "            posteriors = []\n",
        "            for j, c in enumerate(self.classes):\n",
        "                prior = self.prior[j]\n",
        "                mean = self.mean[j]\n",
        "                cov = self.cov\n",
        "                likelihood = np.exp(-0.5 * (x - mean).T @ np.linalg.inv(cov) @ (x - mean))\n",
        "                posterior = prior * likelihood\n",
        "                posteriors.append(posterior)\n",
        "\n",
        "            y_pred[i] = self.classes[np.argmax(posteriors)]\n",
        "\n",
        "        return y_pred"
      ],
      "metadata": {
        "id": "KusLrDHNNflP"
      },
      "execution_count": null,
      "outputs": []
    },
    {
      "cell_type": "code",
      "source": [
        "#Classificador QDA\n",
        "class QDA:\n",
        "    def __init__(self):\n",
        "        self.mean = None\n",
        "        self.cov = None\n",
        "        self.prior = None\n",
        "        self.classes = None\n",
        "\n",
        "    def fit(self, X, y):\n",
        "        self.classes = np.unique(y)\n",
        "        self.mean = np.zeros((len(self.classes), X.shape[1]))\n",
        "        self.cov = np.zeros((len(self.classes), X.shape[1], X.shape[1]))\n",
        "        self.prior = np.zeros(len(self.classes))\n",
        "\n",
        "        for i, c in enumerate(self.classes):\n",
        "            Xc = X[y == c]\n",
        "            self.mean[i] = np.mean(Xc, axis=0)\n",
        "            self.cov[i] = np.cov(Xc.T) * (len(Xc) - 1)\n",
        "            self.prior[i] = len(Xc) / len(X)\n",
        "\n",
        "    def predict(self, X):\n",
        "        y_pred = np.zeros(len(X))\n",
        "\n",
        "        for i, x in enumerate(X):\n",
        "            posteriors = []\n",
        "            for j, c in enumerate(self.classes):\n",
        "                prior = self.prior[j]\n",
        "                mean = self.mean[j]\n",
        "                cov = self.cov[j]\n",
        "                likelihood = np.exp(-0.5 * (x - mean).T @ np.linalg.inv(cov) @ (x - mean))\n",
        "                posterior = prior * likelihood\n",
        "                posteriors.append(posterior)\n",
        "\n",
        "            y_pred[i] = self.classes[np.argmax(posteriors)]\n",
        "\n",
        "        return y_pred"
      ],
      "metadata": {
        "id": "keAPllsnNiz4"
      },
      "execution_count": null,
      "outputs": []
    },
    {
      "cell_type": "code",
      "source": [
        "#Utilizando a base de dados iris\n",
        "iris = datasets.load_iris()\n",
        "X = iris.data\n",
        "y = iris.target\n",
        "\n",
        "#Separando em treino e teste\n",
        "X_train, X_test, y_train, y_test = train_test_split(X, y, test_size=0.3, random_state=42)\n",
        "\n",
        "#Normalização dos dados\n",
        "scaler = StandardScaler()\n",
        "X_train = scaler.fit_transform(X_train)\n",
        "X_test = scaler.transform(X_test)\n",
        "\n",
        "lda = LDA()\n",
        "lda.fit(X_train, y_train)\n",
        "y_pred_train = lda.predict(X_train)\n",
        "y_pred_test = lda.predict(X_test)\n",
        "\n",
        "#Acurária do treino e teste com LDA\n",
        "print('------LDA------')\n",
        "print('Acurácia no conjunto de treino:', accuracy_score(y_train, y_pred_train))\n",
        "print('Acurácia no conjunto de teste:', accuracy_score(y_test, y_pred_test))\n",
        "\n",
        "qda = QDA()\n",
        "qda.fit(X_train, y_train)\n",
        "y_pred_train = qda.predict(X_train)\n",
        "y_pred_test = qda.predict(X_test)\n",
        "\n",
        "#Acurácia do treino e teste com QDA\n",
        "print('------QDA------')\n",
        "print('Acurácia no conjunto de treino:', accuracy_score(y_train, y_pred_train))\n",
        "print('Acurácia no conjunto de teste:', accuracy_score(y_test, y_pred_test))"
      ],
      "metadata": {
        "colab": {
          "base_uri": "https://localhost:8080/"
        },
        "id": "_soU74s6Nlp7",
        "outputId": "95cf6f2e-7ba4-41ff-d2a9-9f810dd8646c"
      },
      "execution_count": null,
      "outputs": [
        {
          "output_type": "stream",
          "name": "stdout",
          "text": [
            "------LDA------\n",
            "Acurácia no conjunto de treino: 0.9714285714285714\n",
            "Acurácia no conjunto de teste: 1.0\n",
            "------QDA------\n",
            "Acurácia no conjunto de treino: 0.9714285714285714\n",
            "Acurácia no conjunto de teste: 0.9777777777777777\n"
          ]
        }
      ]
    }
  ]
}